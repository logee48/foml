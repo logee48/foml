{
  "nbformat": 4,
  "nbformat_minor": 0,
  "metadata": {
    "colab": {
      "provenance": [],
      "authorship_tag": "ABX9TyNy+xw2r+aAixqcOBXE5szR",
      "include_colab_link": true
    },
    "kernelspec": {
      "name": "python3",
      "display_name": "Python 3"
    },
    "language_info": {
      "name": "python"
    }
  },
  "cells": [
    {
      "cell_type": "markdown",
      "metadata": {
        "id": "view-in-github",
        "colab_type": "text"
      },
      "source": [
        "<a href=\"https://colab.research.google.com/github/logee48/foml/blob/main/digit_class.ipynb\" target=\"_parent\"><img src=\"https://colab.research.google.com/assets/colab-badge.svg\" alt=\"Open In Colab\"/></a>"
      ]
    },
    {
      "cell_type": "code",
      "source": [
        "referance : https://medium.com/@azkardm/handwritten-digit-recognition-4dc904edb515"
      ],
      "metadata": {
        "id": "SRi_hK5kh-IB"
      },
      "execution_count": null,
      "outputs": []
    },
    {
      "cell_type": "code",
      "execution_count": null,
      "metadata": {
        "id": "XKc-6_RmMXFB"
      },
      "outputs": [],
      "source": [
        "import tensorflow as tf"
      ]
    },
    {
      "cell_type": "code",
      "source": [
        "#import data from tensor dataset\n",
        "mnist = tf.keras.datasets.mnist\n",
        "(X_train,y_train),(X_test,y_test) = mnist.load_data()"
      ],
      "metadata": {
        "colab": {
          "base_uri": "https://localhost:8080/"
        },
        "id": "MCmRq3RicNMR",
        "outputId": "abed1819-b278-4a2c-a768-817aa5ca9dd7"
      },
      "execution_count": null,
      "outputs": [
        {
          "output_type": "stream",
          "name": "stdout",
          "text": [
            "Downloading data from https://storage.googleapis.com/tensorflow/tf-keras-datasets/mnist.npz\n",
            "11490434/11490434 [==============================] - 0s 0us/step\n"
          ]
        }
      ]
    },
    {
      "cell_type": "code",
      "source": [
        "#normalizing img pixel to range 0 and 1\n",
        "X_train = tf.keras.utils.normalize(X_train, axis= 1)\n",
        "X_test = tf.keras.utils.normalize(X_test, axis= 1)"
      ],
      "metadata": {
        "id": "vDSbJH2HcQtW"
      },
      "execution_count": null,
      "outputs": []
    },
    {
      "cell_type": "code",
      "source": [
        "#creating 1inputlayer, 2 hidden layer and 1output layer\n",
        "\n",
        "model = tf.keras.models.Sequential()\n",
        "model.add(tf.keras.layers.Flatten(input_shape= (28, 28)))\n",
        "model.add(tf.keras.layers.Dense(128, activation= 'relu'))\n",
        "model.add(tf.keras.layers.Dense(128, activation= 'relu'))\n",
        "model.add(tf.keras.layers.Dense(10, activation= 'softmax'))"
      ],
      "metadata": {
        "id": "0ZgrvFbHcgFt"
      },
      "execution_count": null,
      "outputs": []
    },
    {
      "cell_type": "code",
      "source": [
        "model.compile(optimizer= 'adam', loss= 'sparse_categorical_crossentropy', metrics= ['accuracy'])\n",
        "# dh"
      ],
      "metadata": {
        "id": "dn3u52t-cnLk"
      },
      "execution_count": null,
      "outputs": []
    },
    {
      "cell_type": "code",
      "source": [
        "model.fit(X_train,y_train,epochs=5)\n",
        "# evaluate\n",
        "loss, accuracy = model.evaluate(X_test, y_test)\n",
        "model.save('newone.model')"
      ],
      "metadata": {
        "colab": {
          "base_uri": "https://localhost:8080/"
        },
        "id": "hqz2nFGicybA",
        "outputId": "4531bc0a-eee1-4e4e-c304-51144f84d8b9"
      },
      "execution_count": null,
      "outputs": [
        {
          "output_type": "stream",
          "name": "stdout",
          "text": [
            "Epoch 1/5\n",
            "1875/1875 [==============================] - 9s 4ms/step - loss: 0.2663 - accuracy: 0.9222\n",
            "Epoch 2/5\n",
            "1875/1875 [==============================] - 7s 4ms/step - loss: 0.1069 - accuracy: 0.9666\n",
            "Epoch 3/5\n",
            "1875/1875 [==============================] - 8s 4ms/step - loss: 0.0717 - accuracy: 0.9777\n",
            "Epoch 4/5\n",
            "1875/1875 [==============================] - 7s 4ms/step - loss: 0.0538 - accuracy: 0.9833\n",
            "Epoch 5/5\n",
            "1875/1875 [==============================] - 8s 4ms/step - loss: 0.0417 - accuracy: 0.9861\n",
            "313/313 [==============================] - 1s 2ms/step - loss: 0.0950 - accuracy: 0.9735\n"
          ]
        }
      ]
    },
    {
      "cell_type": "code",
      "source": [
        "#using model to predict the value\n",
        "import numpy as np\n",
        "import cv2\n",
        "\n",
        "#make sure image is 28x28 pixel\n",
        "model = tf.keras.models.load_model('newone.model')\n",
        "image = 'nn.jpg'\n",
        "img = cv2.imread(image)[:,:,0]\n",
        "img = np.invert(np.array([img]))\n",
        "pred = model.predict(img)\n",
        "\n",
        "print(pred)\n",
        "print(np.argmax(pred))"
      ],
      "metadata": {
        "colab": {
          "base_uri": "https://localhost:8080/"
        },
        "id": "jzprgwsbdTxO",
        "outputId": "2506d1d4-d66c-491b-cddd-c48bdce0dfa5"
      },
      "execution_count": 20,
      "outputs": [
        {
          "output_type": "stream",
          "name": "stderr",
          "text": [
            "WARNING:tensorflow:5 out of the last 5 calls to <function Model.make_predict_function.<locals>.predict_function at 0x7a3bad3ff6d0> triggered tf.function retracing. Tracing is expensive and the excessive number of tracings could be due to (1) creating @tf.function repeatedly in a loop, (2) passing tensors with different shapes, (3) passing Python objects instead of tensors. For (1), please define your @tf.function outside of the loop. For (2), @tf.function has reduce_retracing=True option that can avoid unnecessary retracing. For (3), please refer to https://www.tensorflow.org/guide/function#controlling_retracing and https://www.tensorflow.org/api_docs/python/tf/function for  more details.\n"
          ]
        },
        {
          "output_type": "stream",
          "name": "stdout",
          "text": [
            "1/1 [==============================] - 0s 61ms/step\n",
            "[[0. 0. 0. 1. 0. 0. 0. 0. 0. 0.]]\n",
            "3\n"
          ]
        }
      ]
    }
  ]
}