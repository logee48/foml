{
  "nbformat": 4,
  "nbformat_minor": 0,
  "metadata": {
    "colab": {
      "provenance": [],
      "authorship_tag": "ABX9TyNcCc1+StP7B63cpD73BSGH",
      "include_colab_link": true
    },
    "kernelspec": {
      "name": "python3",
      "display_name": "Python 3"
    },
    "language_info": {
      "name": "python"
    }
  },
  "cells": [
    {
      "cell_type": "markdown",
      "metadata": {
        "id": "view-in-github",
        "colab_type": "text"
      },
      "source": [
        "<a href=\"https://colab.research.google.com/github/logee48/foml/blob/main/logi_reg.ipynb\" target=\"_parent\"><img src=\"https://colab.research.google.com/assets/colab-badge.svg\" alt=\"Open In Colab\"/></a>"
      ]
    },
    {
      "cell_type": "code",
      "source": [
        "\"\"\"\n",
        "Binomial\n",
        "\n",
        "only 2 outcomes, either 0 or 1\n",
        "dead or alive\n",
        "pass or fail\n",
        "gud or bad\n",
        "\"\"\"\n",
        "\n",
        "from sklearn.linear_model import LogisticRegression\n",
        "from sklearn.model_selection import train_test_split\n",
        "from sklearn.metrics import accuracy_score"
      ],
      "metadata": {
        "colab": {
          "base_uri": "https://localhost:8080/"
        },
        "id": "WkLoiLkGHMXA",
        "outputId": "d6b029a0-29ed-4ff2-b600-7ce7a864d27d"
      },
      "execution_count": null,
      "outputs": [
        {
          "output_type": "stream",
          "name": "stdout",
          "text": [
            "[[9], [0], [0], [8], [2]]\n",
            "[1 0 0 1 0]\n",
            "100.0\n"
          ]
        }
      ]
    },
    {
      "cell_type": "code",
      "source": [
        "a = [[9],[8],[0],[1],[2],[7],[8],[3],[4],[0],[1],[9],[6],[9],[0],[1],[4],[2],[0],[7],[9]]\n",
        "b = [1,1,0,0,0,1,1,0,0,0,0,1,1,1,0,0,0,0,0,1,1]"
      ],
      "metadata": {
        "id": "_0ZXn6u4L3Mr"
      },
      "execution_count": null,
      "outputs": []
    },
    {
      "cell_type": "code",
      "source": [
        "X_train, X_test, y_train, y_test = train_test_split(a, b,\n",
        "\t\t\t\t\t\t\t\t\ttest_size=0.20,\n",
        "\t\t\t\t\t\t\t\t\trandom_state=23)"
      ],
      "metadata": {
        "id": "JyYmOWpZL8Cx"
      },
      "execution_count": null,
      "outputs": []
    },
    {
      "cell_type": "code",
      "source": [
        "clf = LogisticRegression(random_state=0)\n",
        "#random_state=0 same test/train set without shuffling\n",
        "#random_state=None different test/train set with shuffling\n",
        "clf.fit(X_train, y_train)"
      ],
      "metadata": {
        "id": "f-LBPYwhL_yn"
      },
      "execution_count": null,
      "outputs": []
    },
    {
      "cell_type": "code",
      "source": [
        "y_pred = clf.predict(X_test)\n",
        "print(X_test)\n",
        "print(y_pred)\n",
        "print(accuracy_score(y_test,y_pred)*100)"
      ],
      "metadata": {
        "id": "H8j_uCQwMDZD"
      },
      "execution_count": null,
      "outputs": []
    },
    {
      "cell_type": "code",
      "source": [
        "\"\"\"\n",
        "Multinomial\n",
        "\n",
        "more than 2 outcomes\n",
        "output1 output2 ouput3\n",
        "ex: bmi index\n",
        "\"\"\"\n",
        "\n",
        "from sklearn.linear_model import LogisticRegression\n",
        "from sklearn.model_selection import train_test_split\n",
        "\n",
        "# a = [[],[],[]]\n",
        "\n"
      ],
      "metadata": {
        "id": "8dVIh9znHRat"
      },
      "execution_count": null,
      "outputs": []
    }
  ]
}